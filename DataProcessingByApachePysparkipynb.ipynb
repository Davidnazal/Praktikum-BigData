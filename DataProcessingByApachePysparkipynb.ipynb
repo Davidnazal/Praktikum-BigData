{
  "nbformat": 4,
  "nbformat_minor": 0,
  "metadata": {
    "colab": {
      "provenance": []
    },
    "kernelspec": {
      "name": "python3",
      "display_name": "Python 3"
    },
    "language_info": {
      "name": "python"
    }
  },
  "cells": [
    {
      "cell_type": "markdown",
      "source": [
        "**Pegenalan**"
      ],
      "metadata": {
        "id": "j8_g5Up3SL5A"
      }
    },
    {
      "cell_type": "code",
      "source": [
        "# Contoh membuat DataFrame sederhana dan operasi dasar\n",
        "from pyspark.sql import SparkSession\n",
        "spark = SparkSession.builder.appName('HandsOnPertemuan3').getOrCreate()\n",
        "\n",
        "data = [('James', 'Sales', 3000),\n",
        "        ('Michael', 'Sales', 4600),\n",
        "        ('Robert', 'Sales', 4100),\n",
        "        ('Maria', 'Finance', 3000)]\n",
        "columns = ['EmployeeName', 'Department', 'Salary']\n",
        "\n",
        "df = spark.createDataFrame(data, schema=columns)\n",
        "df.show()"
      ],
      "metadata": {
        "colab": {
          "base_uri": "https://localhost:8080/"
        },
        "id": "ceA7S6jQSPw_",
        "outputId": "b3b11502-e4cd-4b2a-f1e5-f421235dd408"
      },
      "execution_count": 32,
      "outputs": [
        {
          "output_type": "stream",
          "name": "stdout",
          "text": [
            "+------------+----------+------+\n",
            "|EmployeeName|Department|Salary|\n",
            "+------------+----------+------+\n",
            "|       James|     Sales|  3000|\n",
            "|     Michael|     Sales|  4600|\n",
            "|      Robert|     Sales|  4100|\n",
            "|       Maria|   Finance|  3000|\n",
            "+------------+----------+------+\n",
            "\n"
          ]
        }
      ]
    },
    {
      "cell_type": "markdown",
      "source": [
        "Transformasi **dasar**"
      ],
      "metadata": {
        "id": "FQoJD0s-SiKC"
      }
    },
    {
      "cell_type": "code",
      "source": [
        "# Menampilkan kolom employeename dan salary\n",
        "df.select('EmployeeName', 'Salary').show()\n",
        "# Menampilkan salary yang diatas 3000\n",
        "df.filter(df['Salary'] > 3000).show()\n",
        "# Mengelompokkan data berdasarkan department lalu menghitung rata rata salary tiap department\n",
        "df.groupBy('Department').avg('Salary').show()\n",
        "# Mengelompokkan data berdasarkan department lalu di aggregasi\n",
        "df.groupBy(\"Department\").agg(\n",
        "    # Untuk menghitung rata rata salary tiap department\n",
        "    F.mean(\"Salary\").alias(\"AvgSalary\"),\n",
        "    # Untuk menampilkan salary tertinggi tiap department\n",
        "    F.max(\"Salary\").alias(\"MaxSalary\"),\n",
        "    # Untuk menampilkan salary terendah tiap department\n",
        "    F.min(\"Salary\").alias(\"MinSalary\"),\n",
        "    # Untuk menghitung total salary tiap department\n",
        "    F.sum(\"Salary\").alias(\"TotalSalary\"),\n",
        "    # Untuk menghitung jumlah employeename tiap department\n",
        "    F.count(\"Salary\").alias(\"CountSalary\")).show()"
      ],
      "metadata": {
        "colab": {
          "base_uri": "https://localhost:8080/"
        },
        "id": "kkIRvfUVUtVT",
        "outputId": "78495e23-df6d-4622-d477-1cb2ac845884"
      },
      "execution_count": 33,
      "outputs": [
        {
          "output_type": "stream",
          "name": "stdout",
          "text": [
            "+------------+------+\n",
            "|EmployeeName|Salary|\n",
            "+------------+------+\n",
            "|       James|  3000|\n",
            "|     Michael|  4600|\n",
            "|      Robert|  4100|\n",
            "|       Maria|  3000|\n",
            "+------------+------+\n",
            "\n",
            "+------------+----------+------+\n",
            "|EmployeeName|Department|Salary|\n",
            "+------------+----------+------+\n",
            "|     Michael|     Sales|  4600|\n",
            "|      Robert|     Sales|  4100|\n",
            "+------------+----------+------+\n",
            "\n",
            "+----------+-----------+\n",
            "|Department|avg(Salary)|\n",
            "+----------+-----------+\n",
            "|     Sales|     3900.0|\n",
            "|   Finance|     3000.0|\n",
            "+----------+-----------+\n",
            "\n",
            "+----------+---------+---------+---------+-----------+-----------+\n",
            "|Department|AvgSalary|MaxSalary|MinSalary|TotalSalary|CountSalary|\n",
            "+----------+---------+---------+---------+-----------+-----------+\n",
            "|     Sales|   3900.0|     4600|     3000|      11700|          3|\n",
            "|   Finance|   3000.0|     3000|     3000|       3000|          1|\n",
            "+----------+---------+---------+---------+-----------+-----------+\n",
            "\n"
          ]
        }
      ]
    },
    {
      "cell_type": "code",
      "source": [
        "# Kolom SalaryBonus dihitung dari 10% gaji\n",
        "df = df.withColumn(\"SalaryBonus\", df[\"Salary\"] * 0.1)\n",
        "\n",
        "# Kolom TotalCompensation\n",
        "df = df.withColumn(\"TotalCompensation\", df[\"Salary\"] + df[\"SalaryBonus\"])\n",
        "df.show()"
      ],
      "metadata": {
        "colab": {
          "base_uri": "https://localhost:8080/"
        },
        "id": "Rwpnc0fHurZX",
        "outputId": "3931046d-175f-4de2-bb26-0548281893e0"
      },
      "execution_count": 35,
      "outputs": [
        {
          "output_type": "stream",
          "name": "stdout",
          "text": [
            "+------------+----------+------+-----------+-----------------+\n",
            "|EmployeeName|Department|Salary|SalaryBonus|TotalCompensation|\n",
            "+------------+----------+------+-----------+-----------------+\n",
            "|       James|     Sales|  3000|      300.0|           3300.0|\n",
            "|     Michael|     Sales|  4600|      460.0|           5060.0|\n",
            "|      Robert|     Sales|  4100|      410.0|           4510.0|\n",
            "|       Maria|   Finance|  3000|      300.0|           3300.0|\n",
            "+------------+----------+------+-----------+-----------------+\n",
            "\n"
          ]
        }
      ]
    },
    {
      "cell_type": "code",
      "source": [
        "# Penggunaan window functions\n",
        "from pyspark.sql.window import Window\n",
        "from pyspark.sql import functions as F\n",
        "\n",
        "windowSpec = Window.partitionBy('Department').orderBy('Salary')\n",
        "df.withColumn('Rank', F.rank().over(windowSpec)).show()"
      ],
      "metadata": {
        "colab": {
          "base_uri": "https://localhost:8080/"
        },
        "id": "2AxGsjorWO8y",
        "outputId": "dcfcf020-86a5-49a6-faf5-43553e4ea47f"
      },
      "execution_count": 16,
      "outputs": [
        {
          "output_type": "stream",
          "name": "stdout",
          "text": [
            "+------------+---------------+------+-----------+-----------------+----+\n",
            "|EmployeeName|     Department|Salary|SalaryBonus|TotalCompensation|Rank|\n",
            "+------------+---------------+------+-----------+-----------------+----+\n",
            "|        Lina|     Accounting|  5200|      520.0|           5720.0|   1|\n",
            "|       Maria|        Finance|  3000|      300.0|           3300.0|   1|\n",
            "|       David|        Manager|  7000|      700.0|           7700.0|   1|\n",
            "|        Andy|Market Analysis|  4800|      480.0|           5280.0|   1|\n",
            "|       James|          Sales|  3000|      300.0|           3300.0|   1|\n",
            "|      Robert|          Sales|  4100|      410.0|           4510.0|   2|\n",
            "|     Michael|          Sales|  4600|      460.0|           5060.0|   3|\n",
            "+------------+---------------+------+-----------+-----------------+----+\n",
            "\n"
          ]
        }
      ]
    },
    {
      "cell_type": "code",
      "source": [
        "\n",
        "\n",
        "# Import library\n",
        "from pyspark.sql import SparkSession\n",
        "from pyspark.sql.functions import col, avg, count\n",
        "\n",
        "# Membuat SparkSession\n",
        "spark = SparkSession.builder.appName('Analisis Diabetes').getOrCreate()\n",
        "\n",
        "# Membaca dataset diabetes\n",
        "df = spark.read.csv(\"diabetes.csv\", header=True, inferSchema=True)\n",
        "\n",
        "# Melihat struktur data\n",
        "df.printSchema()\n",
        "df.show(5)\n",
        "\n",
        "# Statistik deskriptif kolom utama\n",
        "df.describe([\"Pregnancies\", \"Glucose\", \"BloodPressure\", \"BMI\", \"Age\"]).show()\n",
        "\n",
        "# Rata-rata nilai setiap kolom berdasarkan Outcome (0 = tidak diabetes, 1 = diabetes)\n",
        "outcome_avg = df.groupBy(\"Outcome\").agg(\n",
        "    avg(\"Pregnancies\").alias(\"AvgPregnancies\"),\n",
        "    avg(\"Glucose\").alias(\"AvgGlucose\"),\n",
        "    avg(\"BloodPressure\").alias(\"AvgBloodPressure\"),\n",
        "    avg(\"BMI\").alias(\"AvgBMI\"),\n",
        "    avg(\"Age\").alias(\"AvgAge\")\n",
        ")\n",
        "outcome_avg.show()\n",
        "\n",
        "# Jumlah pasien diabetes vs non-diabetes\n",
        "outcome_count = df.groupBy(\"Outcome\").agg(count(\"*\").alias(\"JumlahPasien\"))\n",
        "outcome_count.show()\n",
        "\n",
        "# Rata-rata Glucose berdasarkan kelompok usia\n",
        "age_group = df.withColumn(\"AgeGroup\",\n",
        "                          (col(\"Age\")/10).cast(\"int\")*10)  # membagi umur per 10 tahun\n",
        "age_group_avg = age_group.groupBy(\"AgeGroup\").agg(avg(\"Glucose\").alias(\"AvgGlucose\"))\n",
        "age_group_avg.orderBy(\"AgeGroup\").show()\n"
      ],
      "metadata": {
        "colab": {
          "base_uri": "https://localhost:8080/"
        },
        "id": "zObh9Lz8dWAm",
        "outputId": "a7287363-ecdd-4795-f910-f4b18520330d"
      },
      "execution_count": 30,
      "outputs": [
        {
          "output_type": "stream",
          "name": "stdout",
          "text": [
            "root\n",
            " |-- Pregnancies: integer (nullable = true)\n",
            " |-- Glucose: integer (nullable = true)\n",
            " |-- BloodPressure: integer (nullable = true)\n",
            " |-- SkinThickness: integer (nullable = true)\n",
            " |-- Insulin: integer (nullable = true)\n",
            " |-- BMI: double (nullable = true)\n",
            " |-- DiabetesPedigreeFunction: double (nullable = true)\n",
            " |-- Age: integer (nullable = true)\n",
            " |-- Outcome: integer (nullable = true)\n",
            "\n",
            "+-----------+-------+-------------+-------------+-------+----+------------------------+---+-------+\n",
            "|Pregnancies|Glucose|BloodPressure|SkinThickness|Insulin| BMI|DiabetesPedigreeFunction|Age|Outcome|\n",
            "+-----------+-------+-------------+-------------+-------+----+------------------------+---+-------+\n",
            "|          6|    148|           72|           35|      0|33.6|                   0.627| 50|      1|\n",
            "|          1|     85|           66|           29|      0|26.6|                   0.351| 31|      0|\n",
            "|          8|    183|           64|            0|      0|23.3|                   0.672| 32|      1|\n",
            "|          1|     89|           66|           23|     94|28.1|                   0.167| 21|      0|\n",
            "|          0|    137|           40|           35|    168|43.1|                   2.288| 33|      1|\n",
            "+-----------+-------+-------------+-------------+-------+----+------------------------+---+-------+\n",
            "only showing top 5 rows\n",
            "\n",
            "+-------+------------------+-----------------+------------------+------------------+------------------+\n",
            "|summary|       Pregnancies|          Glucose|     BloodPressure|               BMI|               Age|\n",
            "+-------+------------------+-----------------+------------------+------------------+------------------+\n",
            "|  count|               768|              768|               768|               768|               768|\n",
            "|   mean|3.8450520833333335|     120.89453125|       69.10546875|31.992578124999977|33.240885416666664|\n",
            "| stddev|  3.36957806269887|31.97261819513622|19.355807170644777| 7.884160320375441|11.760231540678689|\n",
            "|    min|                 0|                0|                 0|               0.0|                21|\n",
            "|    max|                17|              199|               122|              67.1|                81|\n",
            "+-------+------------------+-----------------+------------------+------------------+------------------+\n",
            "\n",
            "+-------+-----------------+------------------+-----------------+-----------------+-----------------+\n",
            "|Outcome|   AvgPregnancies|        AvgGlucose| AvgBloodPressure|           AvgBMI|           AvgAge|\n",
            "+-------+-----------------+------------------+-----------------+-----------------+-----------------+\n",
            "|      1|4.865671641791045|141.25746268656715|70.82462686567165|35.14253731343278|37.06716417910448|\n",
            "|      0|            3.298|            109.98|           68.184|30.30419999999996|            31.19|\n",
            "+-------+-----------------+------------------+-----------------+-----------------+-----------------+\n",
            "\n",
            "+-------+------------+\n",
            "|Outcome|JumlahPasien|\n",
            "+-------+------------+\n",
            "|      1|         268|\n",
            "|      0|         500|\n",
            "+-------+------------+\n",
            "\n",
            "+--------+------------------+\n",
            "|AgeGroup|        AvgGlucose|\n",
            "+--------+------------------+\n",
            "|      20| 113.7449494949495|\n",
            "|      30|125.30909090909091|\n",
            "|      40|124.64406779661017|\n",
            "|      50|140.28070175438597|\n",
            "|      60|138.82758620689654|\n",
            "|      70|             132.0|\n",
            "|      80|             134.0|\n",
            "+--------+------------------+\n",
            "\n"
          ]
        }
      ]
    },
    {
      "cell_type": "code",
      "source": [],
      "metadata": {
        "id": "lEoVEkeNftXw"
      },
      "execution_count": null,
      "outputs": []
    }
  ]
}